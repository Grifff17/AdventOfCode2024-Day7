{
 "cells": [
  {
   "cell_type": "code",
   "execution_count": 12,
   "metadata": {},
   "outputs": [],
   "source": [
    "import pandas as pd\n",
    "import numpy as np\n",
    "from utils import *\n",
    "import math\n",
    "import functools\n",
    "import copy"
   ]
  },
  {
   "cell_type": "code",
   "execution_count": 13,
   "metadata": {},
   "outputs": [],
   "source": [
    "data = fileRead(\"input.txt\")"
   ]
  },
  {
   "cell_type": "markdown",
   "metadata": {},
   "source": [
    "## Part 1"
   ]
  },
  {
   "cell_type": "code",
   "execution_count": 14,
   "metadata": {},
   "outputs": [],
   "source": [
    "def evalRow(values, sum, total):\n",
    "    if sum > total:\n",
    "        return False\n",
    "    if len(values) == 0:\n",
    "        if sum == total:\n",
    "            return True\n",
    "        else:\n",
    "            return False\n",
    "\n",
    "    return evalRow(values[1:], sum+values[0], total) or evalRow(values[1:], sum*values[0], total)"
   ]
  },
  {
   "cell_type": "code",
   "execution_count": 15,
   "metadata": {},
   "outputs": [
    {
     "name": "stdout",
     "output_type": "stream",
     "text": [
      "0\n",
      "100\n",
      "200\n",
      "300\n",
      "400\n",
      "500\n",
      "600\n",
      "700\n",
      "800\n"
     ]
    },
    {
     "data": {
      "text/plain": [
       "303876485655"
      ]
     },
     "execution_count": 15,
     "metadata": {},
     "output_type": "execute_result"
    }
   ],
   "source": [
    "result = 0\n",
    "for i in range(len(data)):\n",
    "    if i%100 == 0:\n",
    "        print(i)\n",
    "    sum_raw, vals_raw = data[i].strip().split(\": \")\n",
    "    vals = [int(i) for i in vals_raw.split(\" \")]\n",
    "    sum = int(sum_raw)\n",
    "\n",
    "    if evalRow(tuple(vals[1:]), vals[0], sum):\n",
    "        result = result + sum\n",
    "    \n",
    "result\n"
   ]
  },
  {
   "cell_type": "markdown",
   "metadata": {},
   "source": [
    "## Part 2"
   ]
  },
  {
   "cell_type": "code",
   "execution_count": 16,
   "metadata": {},
   "outputs": [],
   "source": [
    "def concatN(n1, n2):\n",
    "    return int(str(n1)+str(n2))"
   ]
  },
  {
   "cell_type": "code",
   "execution_count": 17,
   "metadata": {},
   "outputs": [],
   "source": [
    "def evalRow2(values, sum, total):\n",
    "    if sum > total:\n",
    "        return False\n",
    "    if len(values) == 0:\n",
    "        if sum == total:\n",
    "            return True\n",
    "        else:\n",
    "            return False\n",
    "\n",
    "    return evalRow2(values[1:], sum+values[0], total) \\\n",
    "        or evalRow2(values[1:], sum*values[0], total) \\\n",
    "        or evalRow2(values[1:], concatN(sum,values[0]), total)"
   ]
  },
  {
   "cell_type": "code",
   "execution_count": 18,
   "metadata": {},
   "outputs": [
    {
     "name": "stdout",
     "output_type": "stream",
     "text": [
      "0\n",
      "100\n",
      "200\n",
      "300\n",
      "400\n",
      "500\n",
      "600\n",
      "700\n",
      "800\n"
     ]
    },
    {
     "data": {
      "text/plain": [
       "146111650210682"
      ]
     },
     "execution_count": 18,
     "metadata": {},
     "output_type": "execute_result"
    }
   ],
   "source": [
    "result = 0\n",
    "for i in range(len(data)):\n",
    "    if i%100 == 0:\n",
    "        print(i)\n",
    "    sum_raw, vals_raw = data[i].strip().split(\": \")\n",
    "    vals = [int(i) for i in vals_raw.split(\" \")]\n",
    "    sum = int(sum_raw)\n",
    "\n",
    "    if evalRow2(tuple(vals[1:]), vals[0], sum):\n",
    "        result = result + sum\n",
    "    \n",
    "result\n"
   ]
  }
 ],
 "metadata": {
  "kernelspec": {
   "display_name": "base",
   "language": "python",
   "name": "python3"
  },
  "language_info": {
   "codemirror_mode": {
    "name": "ipython",
    "version": 3
   },
   "file_extension": ".py",
   "mimetype": "text/x-python",
   "name": "python",
   "nbconvert_exporter": "python",
   "pygments_lexer": "ipython3",
   "version": "3.11.7"
  }
 },
 "nbformat": 4,
 "nbformat_minor": 2
}
